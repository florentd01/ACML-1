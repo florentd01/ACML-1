{
 "cells": [
  {
   "cell_type": "markdown",
   "metadata": {},
   "source": [
    "# **ACML Assignment 1 - Backpropagation**\n",
    "### Jean Janssen, Florent Didascalou"
   ]
  },
  {
   "cell_type": "code",
   "execution_count": 21,
   "metadata": {},
   "outputs": [],
   "source": [
    "import numpy as np\n",
    "import matplotlib.pyplot as plt"
   ]
  },
  {
   "cell_type": "markdown",
   "metadata": {},
   "source": [
    "## ANN Class"
   ]
  },
  {
   "cell_type": "code",
   "execution_count": 27,
   "metadata": {},
   "outputs": [],
   "source": [
    "class Ann:\n",
    "\n",
    "    def __init__(self, layers, learning_rate):\n",
    "        self.hidden_weights = np.random.random((layers[0], layers[1]))\n",
    "        self.hidden_bias = np.random.random((1,layers[1]))\n",
    "        self.output_weights = np.random.random((layers[1], layers[2]))\n",
    "        self.output_bias = np.random.random((1,layers[2]))\n",
    "        self.alpha = learning_rate\n",
    "\n",
    "    def sigmoid(self, x):\n",
    "        return 1 / (1 + np.exp(-x))\n",
    "    \n",
    "    def feedforward(self, input):\n",
    "        hidden_act = self.sigmoid(np.matmul(input, self.hidden_weights) + self.hidden_bias)\n",
    "        return self.sigmoid(np.matmul(hidden_act, self.output_weights) + self.output_bias)\n",
    "    \n",
    "    def backprop(self, data, epochs):\n",
    "        loss_history = list() # History of Losses for each training epoch\n",
    "        n = len(data) # Number of training samples\n",
    "        input = data\n",
    "\n",
    "        for epoch in range(epochs):\n",
    "            cumulative_loss = 0\n",
    "            \n",
    "            # Calculating activations for each layer\n",
    "            hidden_activation = self.sigmoid(np.matmul(input, self.hidden_weights) + self.hidden_bias)\n",
    "            output_activation = self.sigmoid(np.matmul(hidden_activation, self.output_weights) + self.output_bias)\n",
    "\n",
    "            # Calculating Loss for the epoch\n",
    "            loss = output_activation - input\n",
    "            cumulative_loss += np.sum(np.abs(loss)) / n\n",
    "\n",
    "            # Calculating Deltas for both layers\n",
    "            delta_out = output_activation * (1- output_activation) * loss\n",
    "\n",
    "            delta_hidden = hidden_activation * (1- hidden_activation) * (np.matmul(delta_out, self.hidden_weights))\n",
    "\n",
    "\n",
    "            # Updating the weights\n",
    "            self.output_weights -= self.alpha * (1/n) * np.dot(np.transpose(hidden_activation), delta_out)\n",
    "            self.hidden_weights -= self.alpha * (1/n) * np.dot(np.transpose(input), delta_hidden)\n",
    "\n",
    "            self.output_bias -= self.alpha * (1/n) * np.sum(delta_out, axis=0)\n",
    "            self.hidden_bias -= self.alpha * (1/n) * np.sum(delta_hidden, axis=0)\n",
    "\n",
    "            \n",
    "            if epoch % 5000 == 0:\n",
    "                print(f\"Current epoch: {epoch}, cumulative loss: {cumulative_loss}\")\n",
    "            loss_history.append(cumulative_loss)\n",
    "\n",
    "        \n",
    "\n",
    "        return loss_history\n"
   ]
  },
  {
   "cell_type": "code",
   "execution_count": 18,
   "metadata": {},
   "outputs": [],
   "source": [
    "data = np.array([[1,0,0,0,0,0,0,0],\n",
    "                [0,1,0,0,0,0,0,0],\n",
    "                [0,0,1,0,0,0,0,0],\n",
    "                [0,0,0,1,0,0,0,0],\n",
    "                [0,0,0,0,1,0,0,0],\n",
    "                [0,0,0,0,0,1,0,0],\n",
    "                [0,0,0,0,0,0,1,0],\n",
    "                [0,0,0,0,0,0,0,1],\n",
    "                [0,0,0,0,0,0,0,1]])\n",
    "\n",
    "learning_rate = 3\n",
    "epochs = 100000\n",
    "Ann_structure = [8, 3, 8]"
   ]
  },
  {
   "cell_type": "markdown",
   "metadata": {},
   "source": [
    "## Model Training"
   ]
  },
  {
   "cell_type": "code",
   "execution_count": 32,
   "metadata": {},
   "outputs": [
    {
     "name": "stdout",
     "output_type": "stream",
     "text": [
      "Current epoch: 0, cumulative loss: 5.994650249563086\n",
      "Current epoch: 5000, cumulative loss: 0.17332286790956364\n",
      "Current epoch: 10000, cumulative loss: 0.11655196572315724\n",
      "Current epoch: 15000, cumulative loss: 0.09328593087831946\n",
      "Current epoch: 20000, cumulative loss: 0.0798848720696734\n",
      "Current epoch: 25000, cumulative loss: 0.07092374753779392\n",
      "Current epoch: 30000, cumulative loss: 0.06439949391838314\n",
      "Current epoch: 35000, cumulative loss: 0.05937982980282941\n",
      "Current epoch: 40000, cumulative loss: 0.05536504037627385\n",
      "Current epoch: 45000, cumulative loss: 0.05206025315086191\n",
      "Current epoch: 50000, cumulative loss: 0.049278859192539236\n",
      "Current epoch: 55000, cumulative loss: 0.04689629240758867\n",
      "Current epoch: 60000, cumulative loss: 0.044825827854296646\n",
      "Current epoch: 65000, cumulative loss: 0.043004993264039885\n",
      "Current epoch: 70000, cumulative loss: 0.04138750096005403\n",
      "Current epoch: 75000, cumulative loss: 0.039938232807222224\n",
      "Current epoch: 80000, cumulative loss: 0.038630001170352875\n",
      "Current epoch: 85000, cumulative loss: 0.037441387792411275\n",
      "Current epoch: 90000, cumulative loss: 0.03635526098602535\n",
      "Current epoch: 95000, cumulative loss: 0.03535773320013572\n"
     ]
    }
   ],
   "source": [
    "my_network = Ann(Ann_structure, learning_rate)\n",
    "\n",
    "loss_hist = my_network.backprop(data, epochs)"
   ]
  },
  {
   "cell_type": "markdown",
   "metadata": {},
   "source": [
    "## Results"
   ]
  },
  {
   "cell_type": "code",
   "execution_count": 36,
   "metadata": {},
   "outputs": [
    {
     "name": "stdout",
     "output_type": "stream",
     "text": [
      "Last epoch training loss: 0.03443758937479747\n",
      "Training Set\n",
      "[[1 0 0 0 0 0 0 0]\n",
      " [0 1 0 0 0 0 0 0]\n",
      " [0 0 1 0 0 0 0 0]\n",
      " [0 0 0 1 0 0 0 0]\n",
      " [0 0 0 0 1 0 0 0]\n",
      " [0 0 0 0 0 1 0 0]\n",
      " [0 0 0 0 0 0 1 0]\n",
      " [0 0 0 0 0 0 0 1]\n",
      " [0 0 0 0 0 0 0 1]]\n",
      "Predictions of Trained Model on Training Set:\n",
      "[[0.99  0.    0.003 0.007 0.001 0.    0.008 0.   ]\n",
      " [0.    0.99  0.    0.004 0.    0.009 0.008 0.004]\n",
      " [0.005 0.    0.987 0.    0.009 0.    0.007 0.009]\n",
      " [0.008 0.006 0.    0.99  0.005 0.007 0.    0.   ]\n",
      " [0.004 0.    0.011 0.001 0.987 0.011 0.    0.   ]\n",
      " [0.    0.007 0.    0.007 0.008 0.982 0.    0.008]\n",
      " [0.005 0.005 0.005 0.    0.    0.    0.988 0.   ]\n",
      " [0.    0.003 0.005 0.    0.    0.006 0.004 0.992]\n",
      " [0.    0.003 0.005 0.    0.    0.006 0.004 0.992]]\n"
     ]
    },
    {
     "data": {
      "image/png": "[encoded data removed]",
      "text/plain": [
       "<Figure size 640x480 with 1 Axes>"
      ]
     },
     "metadata": {},
     "output_type": "display_data"
    }
   ],
   "source": [
    "final_output = my_network.feedforward(data)\n",
    "\n",
    "print(f\"Last epoch training loss: {loss_hist[-1]}\")\n",
    "\n",
    "print(\"Training Set\")\n",
    "print(data)\n",
    "\n",
    "print(\"Predictions of Trained Model on Training Set:\")\n",
    "print(np.round(final_output, 3))\n",
    "\n",
    "plt.figure()\n",
    "plt.plot(np.arange(epochs), loss_hist, label=\"history\")\n",
    "plt.plot(np.arange(epochs), np.repeat(loss_hist[-1], epochs), 'r--', label=\"Final loss\")\n",
    "plt.ylim(0,1)\n",
    "plt.legend()\n",
    "plt.xlabel(\"Epoch\")\n",
    "plt.ylabel(\"Cumulative Training Loss\")\n",
    "plt.title(\"History of Loss during Training\")\n",
    "plt.show()"
   ]
  },
  {
   "cell_type": "markdown",
   "metadata": {},
   "source": [
    "## Experiments"
   ]
  },
  {
   "cell_type": "code",
   "execution_count": null,
   "metadata": {},
   "outputs": [],
   "source": []
  }
 ],
 "metadata": {
  "kernelspec": {
   "display_name": "Python 3",
   "language": "python",
   "name": "python3"
  },
  "language_info": {
   "codemirror_mode": {
    "name": "ipython",
    "version": 3
   },
   "file_extension": ".py",
   "mimetype": "text/x-python",
   "name": "python",
   "nbconvert_exporter": "python",
   "pygments_lexer": "ipython3",
   "version": "3.8.10"
  }
 },
 "nbformat": 4,
 "nbformat_minor": 2
}
