{
 "cells": [
  {
   "cell_type": "code",
   "execution_count": 16,
   "metadata": {},
   "outputs": [],
   "source": [
    "import numpy as np"
   ]
  },
  {
   "cell_type": "code",
   "execution_count": 17,
   "metadata": {},
   "outputs": [],
   "source": [
    "def sigmoid(x):\n",
    "    return 1 / (1 + np.exp(-x))\n",
    "\n",
    "input_data = np.array([\n",
    "    [1, 0, 0, 0, 0, 0, 0, 0],\n",
    "    [0, 1, 0, 0, 0, 0, 0, 0],\n",
    "    [0, 0, 1, 0, 0, 0, 0, 0],\n",
    "    [0, 0, 0, 1, 0, 0, 0, 0],\n",
    "    [0, 0, 0, 0, 1, 0, 0, 0],\n",
    "    [0, 0, 0, 0, 0, 1, 0, 0],\n",
    "    [0, 0, 0, 0, 0, 0, 1, 0],\n",
    "    [0, 0, 0, 0, 0, 0, 0, 1]\n",
    "])\n",
    "\n",
    "learning_rate = 0.1\n",
    "epochs =  10000"
   ]
  },
  {
   "cell_type": "code",
   "execution_count": 19,
   "metadata": {},
   "outputs": [
    {
     "name": "stdout",
     "output_type": "stream",
     "text": [
      "Final predictions\n",
      "[[0.91 0.   0.02 0.   0.   0.06 0.   0.05]\n",
      " [0.   0.92 0.   0.02 0.   0.07 0.   0.03]\n",
      " [0.07 0.   0.93 0.   0.07 0.   0.05 0.  ]\n",
      " [0.   0.08 0.   0.92 0.07 0.   0.07 0.  ]\n",
      " [0.   0.   0.07 0.09 0.86 0.   0.   0.07]\n",
      " [0.04 0.03 0.   0.   0.   0.9  0.03 0.  ]\n",
      " [0.   0.   0.01 0.02 0.   0.06 0.92 0.  ]\n",
      " [0.06 0.05 0.   0.   0.09 0.   0.   0.91]]\n",
      "Hidden states\n",
      "[[0.99  0.026 0.905]\n",
      " [0.013 0.969 0.875]\n",
      " [0.851 0.01  0.022]\n",
      " [0.012 0.764 0.021]\n",
      " [0.031 0.014 0.207]\n",
      " [0.976 0.988 0.982]\n",
      " [0.887 0.958 0.009]\n",
      " [0.156 0.051 0.987]]\n"
     ]
    }
   ],
   "source": [
    "weights_hidden = np.random.random((8, 3))\n",
    "bias_hidden = np.random.random((1, 3))\n",
    "\n",
    "weights_output = np.random.random((3, 8))\n",
    "bias_output = np.random.random((1, 8))\n",
    "\n",
    "for epoch in range(epochs):\n",
    "    for i, data in enumerate(input_data):\n",
    "        input = data.reshape((1, -1))\n",
    "        hidden_layer_input = (input @ weights_hidden) + bias_hidden\n",
    "        hidden_layer_output = sigmoid(hidden_layer_input)\n",
    "\n",
    "        output_layer_input = (hidden_layer_output @ weights_output) + bias_output\n",
    "        output_layer_output = sigmoid(output_layer_input)\n",
    "\n",
    "        error = output_layer_output - input\n",
    "\n",
    "        delta_output = output_layer_output * (1 - output_layer_output) * error\n",
    "        delta_hidden = hidden_layer_output * (1 - hidden_layer_output) * (delta_output @ weights_output.T)\n",
    "\n",
    "        weights_output -= (learning_rate) * np.dot(hidden_layer_output.T, delta_output)\n",
    "        bias_output -= (learning_rate) * np.sum(delta_output, axis=0, keepdims=True)\n",
    "\n",
    "        weights_hidden -= (learning_rate) * np.dot(input.T, delta_hidden)\n",
    "        bias_hidden -= (learning_rate) * np.sum(delta_hidden, axis=0, keepdims=True)\n",
    "\n",
    "print(\"Final predictions\")\n",
    "input = input_data\n",
    "hidden_state = sigmoid(input @ weights_hidden  + bias_hidden)\n",
    "output = sigmoid(hidden_state @ weights_output  + bias_output)\n",
    "print(np.round(output, 2))\n",
    "\n",
    "print(\"Hidden states\")\n",
    "print(np.round(hidden_state,3))\n"
   ]
  },
  {
   "cell_type": "code",
   "execution_count": 11,
   "metadata": {},
   "outputs": [],
   "source": [
    "class NeuralNetwork:\n",
    "    def __init__(self, input_size, hidden_size, output_size):\n",
    "        self.weights_hidden = np.random.random((8, 3))\n",
    "        self.bias_hidden = np.random.random((1, 3))\n",
    "\n",
    "        self.weights_output = np.random.random((3, 8))\n",
    "        self.bias_output = np.random.random((1, 8))\n",
    "\n",
    "    def feedforward(self, X):\n",
    "        X = X.reshape((1, -1))\n",
    "        self.hidden_layer_input = np.dot(X, self.weights_hidden) + self.bias_hidden\n",
    "        self.hidden_layer_output = sigmoid(self.hidden_layer_input)\n",
    "\n",
    "        self.output_layer_input = np.dot(self.hidden_layer_output, self.weights_output) + self.bias_output\n",
    "        self.output_layer_output = sigmoid(self.output_layer_input)\n",
    "\n",
    "    def backprop(self, X, y, learning_rate):\n",
    "        output_error = y - self.output_layer_output\n",
    "        delta_output = self.output_layer_output * (1 - self.output_layer_output) * output_error\n",
    "\n",
    "        delta_hidden = self.hidden_layer_output * (1 - self.hidden_layer_output) * np.dot(delta_output, self.weights_output.T)\n",
    "\n",
    "        self.weights_output -= (learning_rate) * np.dot(self.hidden_layer_output.T, delta_output)\n",
    "        self.bias_output -= (learning_rate) * np.sum(delta_output, axis=0, keepdims=True)\n",
    "\n",
    "        self.weights_hidden -= (learning_rate) * np.dot(X.T, delta_hidden)\n",
    "        self.bias_hidden -= (learning_rate) * np.sum(delta_hidden, axis=0, keepdims=True)\n",
    "\n",
    "\n",
    "    def train(self, X, y, epochs, learning_rate):\n",
    "        for _ in range(epochs):\n",
    "            self.feedforward(X)\n",
    "            self.backprop(X, y, learning_rate)\n",
    "\n",
    "    def predict(self, X):\n",
    "        self.feedforward(X)\n",
    "        return self.output_layer_output\n"
   ]
  },
  {
   "cell_type": "code",
   "execution_count": 12,
   "metadata": {},
   "outputs": [
    {
     "ename": "ValueError",
     "evalue": "shapes (1,49) and (8,3) not aligned: 49 (dim 1) != 8 (dim 0)",
     "output_type": "error",
     "traceback": [
      "\u001b[1;31m---------------------------------------------------------------------------\u001b[0m",
      "\u001b[1;31mValueError\u001b[0m                                Traceback (most recent call last)",
      "\u001b[1;32mc:\\Users\\Jean\\Documents\\AI1\\CV\\ACML-1\\ann.ipynb Cell 4\u001b[0m line \u001b[0;36m1\n\u001b[0;32m     <a href='vscode-notebook-cell:/c%3A/Users/Jean/Documents/AI1/CV/ACML-1/ann.ipynb#W3sZmlsZQ%3D%3D?line=12'>13</a>\u001b[0m epochs \u001b[39m=\u001b[39m \u001b[39m500\u001b[39m\n\u001b[0;32m     <a href='vscode-notebook-cell:/c%3A/Users/Jean/Documents/AI1/CV/ACML-1/ann.ipynb#W3sZmlsZQ%3D%3D?line=13'>14</a>\u001b[0m nn \u001b[39m=\u001b[39m NeuralNetwork(input_size, hidden_size, input_size)\n\u001b[1;32m---> <a href='vscode-notebook-cell:/c%3A/Users/Jean/Documents/AI1/CV/ACML-1/ann.ipynb#W3sZmlsZQ%3D%3D?line=14'>15</a>\u001b[0m nn\u001b[39m.\u001b[39;49mtrain(input_data, input_data, epochs, learning_rate)\n\u001b[0;32m     <a href='vscode-notebook-cell:/c%3A/Users/Jean/Documents/AI1/CV/ACML-1/ann.ipynb#W3sZmlsZQ%3D%3D?line=16'>17</a>\u001b[0m \u001b[39mfor\u001b[39;00m i \u001b[39min\u001b[39;00m \u001b[39mrange\u001b[39m(\u001b[39mlen\u001b[39m(input_data)):\n\u001b[0;32m     <a href='vscode-notebook-cell:/c%3A/Users/Jean/Documents/AI1/CV/ACML-1/ann.ipynb#W3sZmlsZQ%3D%3D?line=17'>18</a>\u001b[0m     prediction \u001b[39m=\u001b[39m nn\u001b[39m.\u001b[39mpredict(input_data[i])\n",
      "\u001b[1;32mc:\\Users\\Jean\\Documents\\AI1\\CV\\ACML-1\\ann.ipynb Cell 4\u001b[0m line \u001b[0;36m3\n\u001b[0;32m     <a href='vscode-notebook-cell:/c%3A/Users/Jean/Documents/AI1/CV/ACML-1/ann.ipynb#W3sZmlsZQ%3D%3D?line=29'>30</a>\u001b[0m \u001b[39mdef\u001b[39;00m \u001b[39mtrain\u001b[39m(\u001b[39mself\u001b[39m, X, y, epochs, learning_rate):\n\u001b[0;32m     <a href='vscode-notebook-cell:/c%3A/Users/Jean/Documents/AI1/CV/ACML-1/ann.ipynb#W3sZmlsZQ%3D%3D?line=30'>31</a>\u001b[0m     \u001b[39mfor\u001b[39;00m _ \u001b[39min\u001b[39;00m \u001b[39mrange\u001b[39m(epochs):\n\u001b[1;32m---> <a href='vscode-notebook-cell:/c%3A/Users/Jean/Documents/AI1/CV/ACML-1/ann.ipynb#W3sZmlsZQ%3D%3D?line=31'>32</a>\u001b[0m         \u001b[39mself\u001b[39;49m\u001b[39m.\u001b[39;49mfeedforward(X)\n\u001b[0;32m     <a href='vscode-notebook-cell:/c%3A/Users/Jean/Documents/AI1/CV/ACML-1/ann.ipynb#W3sZmlsZQ%3D%3D?line=32'>33</a>\u001b[0m         \u001b[39mself\u001b[39m\u001b[39m.\u001b[39mbackprop(X, y, learning_rate)\n",
      "\u001b[1;32mc:\\Users\\Jean\\Documents\\AI1\\CV\\ACML-1\\ann.ipynb Cell 4\u001b[0m line \u001b[0;36m1\n\u001b[0;32m      <a href='vscode-notebook-cell:/c%3A/Users/Jean/Documents/AI1/CV/ACML-1/ann.ipynb#W3sZmlsZQ%3D%3D?line=8'>9</a>\u001b[0m \u001b[39mdef\u001b[39;00m \u001b[39mfeedforward\u001b[39m(\u001b[39mself\u001b[39m, X):\n\u001b[0;32m     <a href='vscode-notebook-cell:/c%3A/Users/Jean/Documents/AI1/CV/ACML-1/ann.ipynb#W3sZmlsZQ%3D%3D?line=9'>10</a>\u001b[0m     X \u001b[39m=\u001b[39m X\u001b[39m.\u001b[39mreshape((\u001b[39m1\u001b[39m, \u001b[39m-\u001b[39m\u001b[39m1\u001b[39m))\n\u001b[1;32m---> <a href='vscode-notebook-cell:/c%3A/Users/Jean/Documents/AI1/CV/ACML-1/ann.ipynb#W3sZmlsZQ%3D%3D?line=10'>11</a>\u001b[0m     \u001b[39mself\u001b[39m\u001b[39m.\u001b[39mhidden_layer_input \u001b[39m=\u001b[39m np\u001b[39m.\u001b[39;49mdot(X, \u001b[39mself\u001b[39;49m\u001b[39m.\u001b[39;49mweights_hidden) \u001b[39m+\u001b[39m \u001b[39mself\u001b[39m\u001b[39m.\u001b[39mbias_hidden\n\u001b[0;32m     <a href='vscode-notebook-cell:/c%3A/Users/Jean/Documents/AI1/CV/ACML-1/ann.ipynb#W3sZmlsZQ%3D%3D?line=11'>12</a>\u001b[0m     \u001b[39mself\u001b[39m\u001b[39m.\u001b[39mhidden_layer_output \u001b[39m=\u001b[39m sigmoid(\u001b[39mself\u001b[39m\u001b[39m.\u001b[39mhidden_layer_input)\n\u001b[0;32m     <a href='vscode-notebook-cell:/c%3A/Users/Jean/Documents/AI1/CV/ACML-1/ann.ipynb#W3sZmlsZQ%3D%3D?line=13'>14</a>\u001b[0m     \u001b[39mself\u001b[39m\u001b[39m.\u001b[39moutput_layer_input \u001b[39m=\u001b[39m np\u001b[39m.\u001b[39mdot(\u001b[39mself\u001b[39m\u001b[39m.\u001b[39mhidden_layer_output, \u001b[39mself\u001b[39m\u001b[39m.\u001b[39mweights_output) \u001b[39m+\u001b[39m \u001b[39mself\u001b[39m\u001b[39m.\u001b[39mbias_output\n",
      "\u001b[1;31mValueError\u001b[0m: shapes (1,49) and (8,3) not aligned: 49 (dim 1) != 8 (dim 0)"
     ]
    }
   ],
   "source": [
    "if __name__ == \"__main__\":\n",
    "    input_data = np.array([[1, 0, 0, 0, 0, 0, 0],\n",
    "                           [0, 1, 0, 0, 0, 0, 0],\n",
    "                           [0, 0, 1, 0, 0, 0, 0],\n",
    "                           [0, 0, 0, 1, 0, 0, 0],\n",
    "                           [0, 0, 0, 0, 1, 0, 0],\n",
    "                           [0, 0, 0, 0, 0, 1, 0],\n",
    "                           [0, 0, 0, 0, 0, 0, 1]])\n",
    "\n",
    "    input_size = input_data.shape[1]\n",
    "    hidden_size = 4\n",
    "    learning_rate = 5\n",
    "    epochs = 500\n",
    "    nn = NeuralNetwork(input_size, hidden_size, input_size)\n",
    "    nn.train(input_data, input_data, epochs, learning_rate)\n",
    "\n",
    "    for i in range(len(input_data)):\n",
    "        prediction = nn.predict(input_data[i])\n",
    "        print(f\"Input: {input_data[i]}, Predicted Output: {prediction}\")"
   ]
  }
 ],
 "metadata": {
  "kernelspec": {
   "display_name": "acml",
   "language": "python",
   "name": "python3"
  },
  "language_info": {
   "codemirror_mode": {
    "name": "ipython",
    "version": 3
   },
   "file_extension": ".py",
   "mimetype": "text/x-python",
   "name": "python",
   "nbconvert_exporter": "python",
   "pygments_lexer": "ipython3",
   "version": "3.10.13"
  }
 },
 "nbformat": 4,
 "nbformat_minor": 2
}
