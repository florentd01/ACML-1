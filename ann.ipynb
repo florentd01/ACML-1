{
 "cells": [
  {
   "cell_type": "code",
   "execution_count": 1,
   "metadata": {},
   "outputs": [],
   "source": [
    "import numpy as np"
   ]
  },
  {
   "cell_type": "code",
   "execution_count": 2,
   "metadata": {},
   "outputs": [],
   "source": [
    "def sigmoid(x):\n",
    "    return 1 / (1 + np.exp(-x))"
   ]
  },
  {
   "cell_type": "code",
   "execution_count": 3,
   "metadata": {},
   "outputs": [],
   "source": [
    "class NeuralNetwork:\n",
    "    def __init__(self, input_size, hidden_size, output_size):\n",
    "        self.weights_hidden = np.random.rand(8, 3)\n",
    "        self.bias_hidden = np.zeros((1, 3))\n",
    "\n",
    "        self.weights_output = np.random.rand(3, 8)\n",
    "        self.bias_output = np.zeros((1, 8))\n",
    "\n",
    "    def feedforward(self, X):\n",
    "        X = X.reshape((1, -1))\n",
    "        self.hidden_layer_input = np.dot(X, self.weights_hidden) + self.bias_hidden\n",
    "        self.hidden_layer_output = sigmoid(self.hidden_layer_input)\n",
    "\n",
    "        self.output_layer_input = np.dot(self.hidden_layer_output, self.weights_output) + self.bias_output\n",
    "        self.output_layer_output = sigmoid(self.output_layer_input)\n",
    "\n",
    "    def backprop(self, X, y, learning_rate):\n",
    "        output_error = y - self.output_layer_output\n",
    "        delta_output = self.output_layer_output * (1 - self.output_layer_output) * output_error\n",
    "\n",
    "        delta_hidden = self.hidden_layer_output * (1 - self.hidden_layer_output) * np.dot(delta_output, self.weights_output.T)\n",
    "\n",
    "        self.weights_output -= (learning_rate) * np.dot(self.hidden_layer_output.T, delta_output)\n",
    "        self.bias_output -= (learning_rate) * np.sum(delta_output, axis=0, keepdims=True)\n",
    "\n",
    "        self.weights_hidden -= (learning_rate) * np.dot(X.T, delta_hidden)\n",
    "        self.bias_hidden -= (learning_rate) * np.sum(delta_hidden, axis=0, keepdims=True)\n",
    "\n",
    "\n",
    "    def train(self, X, y, epochs, learning_rate):\n",
    "        for _ in range(epochs):\n",
    "            self.feedforward(X)\n",
    "            self.backprop(X, y, learning_rate)\n",
    "\n",
    "    def predict(self, X):\n",
    "        self.feedforward(X)\n",
    "        return self.output_layer_output\n"
   ]
  },
  {
   "cell_type": "code",
   "execution_count": 4,
   "metadata": {},
   "outputs": [
    {
     "ename": "ValueError",
     "evalue": "shapes (1,49) and (8,3) not aligned: 49 (dim 1) != 8 (dim 0)",
     "output_type": "error",
     "traceback": [
      "\u001b[1;31m---------------------------------------------------------------------------\u001b[0m",
      "\u001b[1;31mValueError\u001b[0m                                Traceback (most recent call last)",
      "\u001b[1;32mc:\\Users\\Jean\\Documents\\AI1\\CV\\ACML-1\\ann.ipynb Cell 4\u001b[0m line \u001b[0;36m1\n\u001b[0;32m     <a href='vscode-notebook-cell:/c%3A/Users/Jean/Documents/AI1/CV/ACML-1/ann.ipynb#W3sZmlsZQ%3D%3D?line=12'>13</a>\u001b[0m epochs \u001b[39m=\u001b[39m \u001b[39m500\u001b[39m\n\u001b[0;32m     <a href='vscode-notebook-cell:/c%3A/Users/Jean/Documents/AI1/CV/ACML-1/ann.ipynb#W3sZmlsZQ%3D%3D?line=13'>14</a>\u001b[0m nn \u001b[39m=\u001b[39m NeuralNetwork(input_size, hidden_size, input_size)\n\u001b[1;32m---> <a href='vscode-notebook-cell:/c%3A/Users/Jean/Documents/AI1/CV/ACML-1/ann.ipynb#W3sZmlsZQ%3D%3D?line=14'>15</a>\u001b[0m nn\u001b[39m.\u001b[39;49mtrain(input_data, input_data, epochs, learning_rate)\n\u001b[0;32m     <a href='vscode-notebook-cell:/c%3A/Users/Jean/Documents/AI1/CV/ACML-1/ann.ipynb#W3sZmlsZQ%3D%3D?line=16'>17</a>\u001b[0m \u001b[39mfor\u001b[39;00m i \u001b[39min\u001b[39;00m \u001b[39mrange\u001b[39m(\u001b[39mlen\u001b[39m(input_data)):\n\u001b[0;32m     <a href='vscode-notebook-cell:/c%3A/Users/Jean/Documents/AI1/CV/ACML-1/ann.ipynb#W3sZmlsZQ%3D%3D?line=17'>18</a>\u001b[0m     prediction \u001b[39m=\u001b[39m nn\u001b[39m.\u001b[39mpredict(input_data[i])\n",
      "\u001b[1;32mc:\\Users\\Jean\\Documents\\AI1\\CV\\ACML-1\\ann.ipynb Cell 4\u001b[0m line \u001b[0;36m3\n\u001b[0;32m     <a href='vscode-notebook-cell:/c%3A/Users/Jean/Documents/AI1/CV/ACML-1/ann.ipynb#W3sZmlsZQ%3D%3D?line=29'>30</a>\u001b[0m \u001b[39mdef\u001b[39;00m \u001b[39mtrain\u001b[39m(\u001b[39mself\u001b[39m, X, y, epochs, learning_rate):\n\u001b[0;32m     <a href='vscode-notebook-cell:/c%3A/Users/Jean/Documents/AI1/CV/ACML-1/ann.ipynb#W3sZmlsZQ%3D%3D?line=30'>31</a>\u001b[0m     \u001b[39mfor\u001b[39;00m _ \u001b[39min\u001b[39;00m \u001b[39mrange\u001b[39m(epochs):\n\u001b[1;32m---> <a href='vscode-notebook-cell:/c%3A/Users/Jean/Documents/AI1/CV/ACML-1/ann.ipynb#W3sZmlsZQ%3D%3D?line=31'>32</a>\u001b[0m         \u001b[39mself\u001b[39;49m\u001b[39m.\u001b[39;49mfeedforward(X)\n\u001b[0;32m     <a href='vscode-notebook-cell:/c%3A/Users/Jean/Documents/AI1/CV/ACML-1/ann.ipynb#W3sZmlsZQ%3D%3D?line=32'>33</a>\u001b[0m         \u001b[39mself\u001b[39m\u001b[39m.\u001b[39mbackprop(X, y, learning_rate)\n",
      "\u001b[1;32mc:\\Users\\Jean\\Documents\\AI1\\CV\\ACML-1\\ann.ipynb Cell 4\u001b[0m line \u001b[0;36m1\n\u001b[0;32m      <a href='vscode-notebook-cell:/c%3A/Users/Jean/Documents/AI1/CV/ACML-1/ann.ipynb#W3sZmlsZQ%3D%3D?line=8'>9</a>\u001b[0m \u001b[39mdef\u001b[39;00m \u001b[39mfeedforward\u001b[39m(\u001b[39mself\u001b[39m, X):\n\u001b[0;32m     <a href='vscode-notebook-cell:/c%3A/Users/Jean/Documents/AI1/CV/ACML-1/ann.ipynb#W3sZmlsZQ%3D%3D?line=9'>10</a>\u001b[0m     X \u001b[39m=\u001b[39m X\u001b[39m.\u001b[39mreshape((\u001b[39m1\u001b[39m, \u001b[39m-\u001b[39m\u001b[39m1\u001b[39m))\n\u001b[1;32m---> <a href='vscode-notebook-cell:/c%3A/Users/Jean/Documents/AI1/CV/ACML-1/ann.ipynb#W3sZmlsZQ%3D%3D?line=10'>11</a>\u001b[0m     \u001b[39mself\u001b[39m\u001b[39m.\u001b[39mhidden_layer_input \u001b[39m=\u001b[39m np\u001b[39m.\u001b[39;49mdot(X, \u001b[39mself\u001b[39;49m\u001b[39m.\u001b[39;49mweights_hidden) \u001b[39m+\u001b[39m \u001b[39mself\u001b[39m\u001b[39m.\u001b[39mbias_hidden\n\u001b[0;32m     <a href='vscode-notebook-cell:/c%3A/Users/Jean/Documents/AI1/CV/ACML-1/ann.ipynb#W3sZmlsZQ%3D%3D?line=11'>12</a>\u001b[0m     \u001b[39mself\u001b[39m\u001b[39m.\u001b[39mhidden_layer_output \u001b[39m=\u001b[39m sigmoid(\u001b[39mself\u001b[39m\u001b[39m.\u001b[39mhidden_layer_input)\n\u001b[0;32m     <a href='vscode-notebook-cell:/c%3A/Users/Jean/Documents/AI1/CV/ACML-1/ann.ipynb#W3sZmlsZQ%3D%3D?line=13'>14</a>\u001b[0m     \u001b[39mself\u001b[39m\u001b[39m.\u001b[39moutput_layer_input \u001b[39m=\u001b[39m np\u001b[39m.\u001b[39mdot(\u001b[39mself\u001b[39m\u001b[39m.\u001b[39mhidden_layer_output, \u001b[39mself\u001b[39m\u001b[39m.\u001b[39mweights_output) \u001b[39m+\u001b[39m \u001b[39mself\u001b[39m\u001b[39m.\u001b[39mbias_output\n",
      "\u001b[1;31mValueError\u001b[0m: shapes (1,49) and (8,3) not aligned: 49 (dim 1) != 8 (dim 0)"
     ]
    }
   ],
   "source": [
    "if __name__ == \"__main__\":\n",
    "    input_data = np.array([[1, 0, 0, 0, 0, 0, 0],\n",
    "                           [0, 1, 0, 0, 0, 0, 0],\n",
    "                           [0, 0, 1, 0, 0, 0, 0],\n",
    "                           [0, 0, 0, 1, 0, 0, 0],\n",
    "                           [0, 0, 0, 0, 1, 0, 0],\n",
    "                           [0, 0, 0, 0, 0, 1, 0],\n",
    "                           [0, 0, 0, 0, 0, 0, 1]])\n",
    "\n",
    "    input_size = input_data.shape[1]\n",
    "    hidden_size = 4\n",
    "    learning_rate = 5\n",
    "    epochs = 500\n",
    "    nn = NeuralNetwork(input_size, hidden_size, input_size)\n",
    "    nn.train(input_data, input_data, epochs, learning_rate)\n",
    "\n",
    "    for i in range(len(input_data)):\n",
    "        prediction = nn.predict(input_data[i])\n",
    "        print(f\"Input: {input_data[i]}, Predicted Output: {prediction}\")"
   ]
  }
 ],
 "metadata": {
  "kernelspec": {
   "display_name": "acml",
   "language": "python",
   "name": "python3"
  },
  "language_info": {
   "codemirror_mode": {
    "name": "ipython",
    "version": 3
   },
   "file_extension": ".py",
   "mimetype": "text/x-python",
   "name": "python",
   "nbconvert_exporter": "python",
   "pygments_lexer": "ipython3",
   "version": "3.10.13"
  }
 },
 "nbformat": 4,
 "nbformat_minor": 2
}
